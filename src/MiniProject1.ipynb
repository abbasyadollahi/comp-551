{
 "cells": [
  {
   "cell_type": "code",
   "execution_count": 1,
   "metadata": {},
   "outputs": [],
   "source": [
    "import numpy as np\n",
    "import matplotlib.pyplot as plt\n",
    "\n",
    "from features import PreprocessData\n",
    "from linear_regression import linear_closed_form, linear_gradient_descent\n",
    "\n",
    "ppd = PreprocessData()\n",
    "\n",
    "# Split dataset\n",
    "train, validation, test = ppd.preprocess_data(ppd.data)"
   ]
  },
  {
   "cell_type": "code",
   "execution_count": 2,
   "metadata": {},
   "outputs": [
    {
     "name": "stdout",
     "output_type": "stream",
     "text": [
      "(1000, 64)\n",
      "(1000,)\n"
     ]
    }
   ],
   "source": [
    "# Compute most common words from \n",
    "ppd.compute_most_common_words(train)\n",
    "\n",
    "X, y = ppd.compute_features(train)\n",
    "print(X.shape)\n",
    "print(y.shape)"
   ]
  },
  {
   "cell_type": "code",
   "execution_count": 4,
   "metadata": {},
   "outputs": [
    {
     "name": "stdout",
     "output_type": "stream",
     "text": [
      "(64,)\n",
      "[ 0.33804898 -1.06756498 -0.24643207 -0.01133773 -0.03046873  0.06334475\n",
      " -0.00869771 -0.04614644 -0.0549501  -0.0808376  -0.10207807  0.14014314\n",
      "  0.15084769 -0.05351871  0.12497149  0.04470401  0.13766329  0.07231858\n",
      " -0.18728517  0.07495515 -0.02573434 -0.00142299  0.03348619 -0.03672366\n",
      " -0.17076024  0.05447865  0.00212001  0.05975027  0.15910939 -0.03760537\n",
      " -0.1069359  -0.02173971  0.15195628 -0.12906898 -0.06198608 -0.05995998\n",
      " -0.05628373 -0.08857656 -0.18011718  0.12137687  0.19217214  0.10247431\n",
      "  0.10191137  0.18924172 -0.00647423 -0.00118841 -0.07102072 -0.12604962\n",
      "  0.03636392 -0.0198404   0.0036799  -0.10347251 -0.05805696 -0.00852178\n",
      "  0.26976379 -0.02597681  0.08261691  0.19763496  0.08169497 -0.24345893\n",
      " -0.08442747 -0.03484792  0.38442254  0.76900369]\n"
     ]
    }
   ],
   "source": [
    "w_closed = linear_closed_form(X, y)\n",
    "print(w_closed.shape)\n",
    "print(w_closed)"
   ]
  },
  {
   "cell_type": "code",
   "execution_count": null,
   "metadata": {},
   "outputs": [
    {
     "name": "stdout",
     "output_type": "stream",
     "text": [
      "Error: 3.704153144640457e-05\n",
      "Error: 1.9966457440374938e-05\n",
      "Error: 1.3740706420416159e-05\n",
      "Error: 1.0208487667323188e-05\n",
      "Error: 7.76341636331144e-06\n",
      "Error: 5.948963568181928e-06\n",
      "Error: 4.571143710267698e-06\n",
      "Error: 3.516517037290789e-06\n",
      "Error: 2.7068393483647007e-06\n",
      "Error: 2.0844151292639567e-06\n",
      "Error: 1.6056206216617778e-06\n",
      "Error: 1.2371558270080775e-06\n",
      "Error: 9.535040485754399e-07\n",
      "Error: 7.350799663425706e-07\n",
      "Error: 5.66838283743792e-07\n",
      "Error: 4.3721549250478537e-07\n",
      "Error: 3.373208622949662e-07\n",
      "Error: 2.60316556518876e-07\n",
      "Error: 2.0094213472202868e-07\n",
      "Error: 1.5514957880732885e-07\n",
      "Error: 1.1982303419755412e-07\n",
      "Error: 9.256353084862907e-08\n",
      "Error: 7.152356841652792e-08\n",
      "Error: 5.527997947667801e-08\n",
      "Error: 4.27361891354394e-08\n",
      "Error: 3.304705138768499e-08\n",
      "Error: 2.556103445039647e-08\n",
      "Error: 1.9775738401352054e-08\n"
     ]
    }
   ],
   "source": [
    "w_init = np.zeros(X.shape[1])\n",
    "decay_speed = 10**(-7)\n",
    "learn_rate = 10**(-6)\n",
    "min_err = 10**(-9)\n",
    "max_iter = 1000000\n",
    "\n",
    "w_grad = linear_gradient_descent(X, y, w_init, decay_speed, learn_rate, min_err, max_iter)\n",
    "print(w_grad.shape)\n",
    "print(w_grad)"
   ]
  },
  {
   "cell_type": "code",
   "execution_count": 10,
   "metadata": {},
   "outputs": [
    {
     "name": "stdout",
     "output_type": "stream",
     "text": [
      "2.405492490255732e-09\n"
     ]
    }
   ],
   "source": [
    "mse = (np.square(w_grad - w_closed)).mean()\n",
    "print(mse)"
   ]
  },
  {
   "cell_type": "code",
   "execution_count": null,
   "metadata": {},
   "outputs": [],
   "source": []
  }
 ],
 "metadata": {
  "kernelspec": {
   "display_name": "Python 3",
   "language": "python",
   "name": "python3"
  },
  "language_info": {
   "codemirror_mode": {
    "name": "ipython",
    "version": 3
   },
   "file_extension": ".py",
   "mimetype": "text/x-python",
   "name": "python",
   "nbconvert_exporter": "python",
   "pygments_lexer": "ipython3",
   "version": "3.7.1"
  }
 },
 "nbformat": 4,
 "nbformat_minor": 2
}
